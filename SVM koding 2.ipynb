CLASSIFICATION DENGAN SVC ((SUPPORT VECTOR CLASSIFER)

from sklearn.svm import SVC

model = SVC(random_state=0)
model.fit(X_train, y_train)

from sklearn.metrics import classification_report

y_pred = model.predict(X_test)
print(classification_report(y_test, y_pred))