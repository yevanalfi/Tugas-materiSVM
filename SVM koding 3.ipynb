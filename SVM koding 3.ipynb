HYPERPARAMETER TUNING DENGAN GRIDSEARCHCV

from sklearn.model_selection import GridSearchCV

parameters = {
        'kernel' : ['rbf', 'poly', 'sigmoid']
        'C' : [0.5, 1, 10, , 100],
        'gamma' : ['scale', 1, 0.1, 0.001]
}

grid_search = GridSearchCV(estimator=SVC(random_state=0),
                           param_grid=parameters,
                           n_jobs=6
                           verbose=1
                           scoring='accuracy')

grid_search.fit(X_train, y_train)


print(f'Best Score: {grid_search.best_score_}')

best_params = grid_search.best_estimator_.get_paramms()
print(f'Best Paramseters : ')
for param in parameters :
    print(f'\t{param} : {best_params[param]}')
    