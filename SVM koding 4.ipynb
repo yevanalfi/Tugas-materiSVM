PREDICT & EVALUATE

y_pred = grid_search.predict(X_test)

print((classification_report(y_test, y_pred)